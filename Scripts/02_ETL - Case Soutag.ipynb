{
 "cells": [
  {
   "cell_type": "code",
   "execution_count": 0,
   "metadata": {
    "application/vnd.databricks.v1+cell": {
     "cellMetadata": {
      "byteLimit": 2048000,
      "rowLimit": 10000
     },
     "inputWidgets": {},
     "nuid": "c33b1bf9-8b69-4ea4-a8ce-fff09d5e1b10",
     "showTitle": false,
     "tableResultSettingsMap": {},
     "title": ""
    }
   },
   "outputs": [],
   "source": [
    "from pyspark.sql.functions import col, lower, trim, when, regexp_extract, to_date, split, lit, expr, rtrim, ltrim, trim, regexp_replace\n",
    "from pyspark.sql.types import IntegerType\n",
    "\n",
    "df = spark.table(\"soutag\")\n",
    "\n",
    "text_cols = [\"title\",\"director\",\"cast\",\"country\",\"listed_in\",\"description\"]\n",
    "\n",
    "df = df\n",
    "for c in text_cols:\n",
    "    df = df.withColumn(c, regexp_replace(col(c), r'\"\"+', '\"'))"
   ]
  },
  {
   "cell_type": "code",
   "execution_count": 0,
   "metadata": {
    "application/vnd.databricks.v1+cell": {
     "cellMetadata": {
      "byteLimit": 2048000,
      "rowLimit": 10000
     },
     "inputWidgets": {},
     "nuid": "64ab77ec-6858-4bb4-9d5b-713f9b7dda75",
     "showTitle": false,
     "tableResultSettingsMap": {},
     "title": ""
    }
   },
   "outputs": [],
   "source": [
    "df = df.withColumn(\"type\", trim(lower(df[\"type\"])))\\\n",
    "        .withColumn(\"title\", trim(lower(df[\"title\"])))\\\n",
    "        .withColumn(\"director\", trim(lower(df[\"director\"])))\\\n",
    "        .withColumn(\"cast\", trim(lower(df[\"cast\"])))\\\n",
    "        .withColumn(\"country\", trim(lower(df[\"country\"])))\\\n",
    "        .withColumn(\"rating\", trim(lower(df[\"rating\"])))\\\n",
    "        .withColumn(\"duration\", trim(lower(df[\"duration\"])))\\\n",
    "        .withColumn(\"listed_in\", trim(lower(df[\"listed_in\"])))\\\n",
    "        .withColumn(\"description\", trim(lower(df[\"description\"])))\n",
    "\n",
    "df.write.mode('overwrite').saveAsTable('soutag')"
   ]
  },
  {
   "cell_type": "code",
   "execution_count": 0,
   "metadata": {
    "application/vnd.databricks.v1+cell": {
     "cellMetadata": {
      "byteLimit": 2048000,
      "implicitDf": true,
      "rowLimit": 10000
     },
     "inputWidgets": {},
     "nuid": "0d26a52c-ea3f-4639-aaf7-600b3d675928",
     "showTitle": false,
     "tableResultSettingsMap": {
      "0": {
       "dataGridStateBlob": "{\"version\":1,\"tableState\":{\"columnPinning\":{\"left\":[\"#row_number#\"],\"right\":[]},\"columnSizing\":{},\"columnVisibility\":{}},\"settings\":{\"columns\":{}},\"syncTimestamp\":1758883246332}",
       "filterBlob": null,
       "queryPlanFiltersBlob": null,
       "tableResultIndex": 0
      }
     },
     "title": ""
    }
   },
   "outputs": [],
   "source": [
    "%sql\n",
    "CREATE OR REPLACE TABLE silver_soutag AS\n",
    "SELECT\n",
    "    TRIM(regexp_replace(show_id, '\"', '')) AS show_id,\n",
    "    TRIM(regexp_replace(type, '\"', '')) AS type,\n",
    "    TRIM(regexp_replace(title, '\"', '')) AS title,\n",
    "    TRIM(regexp_replace(director, '\"', '')) AS director,\n",
    "    TRIM(regexp_replace(cast, '\"', '')) AS cast,\n",
    "    TRIM(regexp_replace(country, '\"', '')) AS country,\n",
    "    TO_DATE(NULLIF(TRIM(regexp_replace(date_added, '\"', '')), ''), 'MMMM d, yyyy') AS date_added,\n",
    "    DATE_FORMAT(\n",
    "        TO_DATE(NULLIF(TRIM(regexp_replace(date_added, '\"', '')), ''), 'MMMM d, yyyy'),\n",
    "        'dd/MM/yyyy'\n",
    "    ) AS date_formated,\n",
    "    CAST(regexp_replace(release_year, '[^0-9]', '') AS INT) AS release_year,\n",
    "    TRIM(regexp_replace(rating, '\"', '')) AS rating,\n",
    "    TRIM(regexp_replace(duration, '\"', '')) AS duration,\n",
    "    TRIM(regexp_replace(listed_in, '\"', '')) AS listed_in,\n",
    "    TRIM(regexp_replace(description, '\"', '')) AS description\n",
    "FROM soutag;"
   ]
  },
  {
   "cell_type": "code",
   "execution_count": 0,
   "metadata": {
    "application/vnd.databricks.v1+cell": {
     "cellMetadata": {
      "byteLimit": 2048000,
      "implicitDf": true,
      "rowLimit": 10000
     },
     "inputWidgets": {},
     "nuid": "e4f6e260-28ab-424f-b346-57e6f6741ac3",
     "showTitle": false,
     "tableResultSettingsMap": {},
     "title": ""
    }
   },
   "outputs": [],
   "source": [
    "%sql\n",
    "CREATE OR REPLACE TABLE titles_clean AS\n",
    "SELECT\n",
    "    show_id,\n",
    "    LOWER(TRIM(type)) AS type,\n",
    "    LOWER(TRIM(title)) AS title,\n",
    "    LOWER(TRIM(director)) AS director,\n",
    "    LOWER(TRIM(cast)) AS cast,\n",
    "    COALESCE(LOWER(TRIM(country)), 'sem registro') AS country,\n",
    "    date_added,\n",
    "    date_formated,\n",
    "    release_year,\n",
    "    COALESCE(LOWER(TRIM(rating)), 'not_rated') AS rating,\n",
    "    CAST(regexp_extract(duration, '^(\\\\d+)', 1) AS INT) AS duration_value,\n",
    "    LOWER(regexp_extract(duration, '([A-Za-z]+)$', 1)) AS duration_unit,\n",
    "    LOWER(TRIM(listed_in)) AS listed_in,\n",
    "    LOWER(TRIM(description)) AS description\n",
    "FROM silver_soutag;\n"
   ]
  },
  {
   "cell_type": "code",
   "execution_count": 0,
   "metadata": {
    "application/vnd.databricks.v1+cell": {
     "cellMetadata": {
      "byteLimit": 2048000,
      "implicitDf": true,
      "rowLimit": 10000
     },
     "inputWidgets": {},
     "nuid": "8e07d827-4e9b-4a44-a4e2-78579b0cd093",
     "showTitle": false,
     "tableResultSettingsMap": {},
     "title": ""
    }
   },
   "outputs": [],
   "source": [
    "%sql\n",
    "CREATE OR REPLACE TABLE titles_by_country AS\n",
    "SELECT\n",
    "    show_id,\n",
    "    TRIM(country) AS country\n",
    "FROM titles_clean\n",
    "LATERAL VIEW explode(split(country, ',')) c AS country_clean;"
   ]
  },
  {
   "cell_type": "code",
   "execution_count": 0,
   "metadata": {
    "application/vnd.databricks.v1+cell": {
     "cellMetadata": {
      "byteLimit": 2048000,
      "implicitDf": true,
      "rowLimit": 10000
     },
     "inputWidgets": {},
     "nuid": "4acc0013-5e03-4a94-b50e-1de461ed7103",
     "showTitle": false,
     "tableResultSettingsMap": {},
     "title": ""
    }
   },
   "outputs": [],
   "source": [
    "%sql\n",
    "CREATE OR REPLACE TABLE titles_by_genre AS\n",
    "SELECT\n",
    "    show_id,\n",
    "    TRIM(listed_in) AS genre\n",
    "FROM titles_clean\n",
    "LATERAL VIEW explode(split(listed_in, ',')) g AS genre_clean;"
   ]
  }
 ],
 "metadata": {
  "application/vnd.databricks.v1+notebook": {
   "computePreferences": null,
   "dashboards": [],
   "environmentMetadata": {
    "base_environment": "",
    "environment_version": "3"
   },
   "inputWidgetPreferences": null,
   "language": "python",
   "notebookMetadata": {
    "mostRecentlyExecutedCommandWithImplicitDF": {
     "commandId": 8796140111311524,
     "dataframes": [
      "_sqldf"
     ]
    },
    "pythonIndentUnit": 4
   },
   "notebookName": "02_ETL - Case Soutag",
   "widgets": {}
  },
  "language_info": {
   "name": "python"
  }
 },
 "nbformat": 4,
 "nbformat_minor": 0
}