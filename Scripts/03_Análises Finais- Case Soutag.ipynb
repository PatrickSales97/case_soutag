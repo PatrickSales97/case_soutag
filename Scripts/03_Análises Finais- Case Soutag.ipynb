{
 "cells": [
  {
   "cell_type": "code",
   "execution_count": 0,
   "metadata": {
    "application/vnd.databricks.v1+cell": {
     "cellMetadata": {
      "byteLimit": 2048000,
      "implicitDf": true,
      "rowLimit": 10000
     },
     "inputWidgets": {},
     "nuid": "6edd1aa0-2d97-478f-aafc-c1a0adfe721b",
     "showTitle": false,
     "tableResultSettingsMap": {},
     "title": ""
    }
   },
   "outputs": [],
   "source": [
    "%sql\n",
    "CREATE OR REPLACE VIEW vw_top10_paises AS\n",
    "SELECT \n",
    "    country,\n",
    "    COUNT(DISTINCT show_id) AS total_titles\n",
    "FROM titles_by_country\n",
    "where country <> 'sem registro'\n",
    "GROUP BY country\n",
    "ORDER BY total_titles DESC\n",
    "LIMIT 10;"
   ]
  },
  {
   "cell_type": "code",
   "execution_count": 0,
   "metadata": {
    "application/vnd.databricks.v1+cell": {
     "cellMetadata": {
      "byteLimit": 2048000,
      "implicitDf": true,
      "rowLimit": 10000
     },
     "inputWidgets": {},
     "nuid": "fdd0c658-c228-4a08-bc10-94fc447691c6",
     "showTitle": false,
     "tableResultSettingsMap": {},
     "title": ""
    }
   },
   "outputs": [],
   "source": [
    "%sql\n",
    "CREATE OR REPLACE VIEW vw_evol_lancamentos AS\n",
    "SELECT \n",
    "    DATE_FORMAT(date_added, 'yyyy-MM') AS year_month,\n",
    "    COUNT(DISTINCT show_id) AS total_titles\n",
    "FROM titles_clean\n",
    "WHERE date_added IS NOT NULL\n",
    "GROUP BY year_month\n",
    "ORDER BY year_month;\n"
   ]
  },
  {
   "cell_type": "code",
   "execution_count": 0,
   "metadata": {
    "application/vnd.databricks.v1+cell": {
     "cellMetadata": {
      "byteLimit": 2048000,
      "implicitDf": true,
      "rowLimit": 10000
     },
     "inputWidgets": {},
     "nuid": "97693682-eedc-4e1d-94cf-7769c88331fb",
     "showTitle": false,
     "tableResultSettingsMap": {},
     "title": ""
    }
   },
   "outputs": [],
   "source": [
    "%sql\n",
    "CREATE OR REPLACE VIEW vw_filme_serie AS\n",
    "SELECT \n",
    "    type,\n",
    "    COUNT(DISTINCT show_id) AS total_titles\n",
    "FROM titles_clean\n",
    "GROUP BY type\n",
    "ORDER BY total_titles DESC;"
   ]
  },
  {
   "cell_type": "code",
   "execution_count": 0,
   "metadata": {
    "application/vnd.databricks.v1+cell": {
     "cellMetadata": {
      "byteLimit": 2048000,
      "implicitDf": true,
      "rowLimit": 10000
     },
     "inputWidgets": {},
     "nuid": "183ab6c6-c2cf-4493-8162-40371d54905d",
     "showTitle": false,
     "tableResultSettingsMap": {},
     "title": ""
    }
   },
   "outputs": [],
   "source": [
    "%sql\n",
    "CREATE OR REPLACE VIEW vw_elenco AS\n",
    "SELECT\n",
    "    show_id,\n",
    "    TRIM(actor) AS actor\n",
    "FROM titles_clean\n",
    "LATERAL VIEW explode(split(cast, ',')) tmp AS actor;\n",
    "\n",
    "SELECT \n",
    "    actor,\n",
    "    COUNT(DISTINCT show_id) AS total_titles\n",
    "FROM exploded_cast\n",
    "WHERE actor IS NOT NULL AND actor != ''\n",
    "GROUP BY actor\n",
    "ORDER BY total_titles DESC\n",
    "LIMIT 20;"
   ]
  }
 ],
 "metadata": {
  "application/vnd.databricks.v1+notebook": {
   "computePreferences": null,
   "dashboards": [],
   "environmentMetadata": {
    "base_environment": "",
    "environment_version": "3"
   },
   "inputWidgetPreferences": null,
   "language": "python",
   "notebookMetadata": {
    "mostRecentlyExecutedCommandWithImplicitDF": {
     "commandId": 7123651384624567,
     "dataframes": [
      "_sqldf"
     ]
    },
    "pythonIndentUnit": 4
   },
   "notebookName": "03_Análises Finais- Case Soutag",
   "widgets": {}
  },
  "language_info": {
   "name": "python"
  }
 },
 "nbformat": 4,
 "nbformat_minor": 0
}